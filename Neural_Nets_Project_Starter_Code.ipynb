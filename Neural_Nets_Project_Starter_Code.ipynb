{
 "cells": [
  {
   "cell_type": "markdown",
   "metadata": {},
   "source": [
    "# Gesture Recognition\n",
    "In this group project, you are going to build a 3D Conv model that will be able to predict the 5 gestures correctly. Please import the following libraries to get started."
   ]
  },
  {
   "cell_type": "code",
   "execution_count": 13,
   "metadata": {},
   "outputs": [],
   "source": [
    "import numpy as np\n",
    "import os\n",
    "from imageio import imread\n",
    "from skimage.transform import resize\n",
    "import datetime\n",
    "import os"
   ]
  },
  {
   "cell_type": "markdown",
   "metadata": {},
   "source": [
    "We set the random seed so that the results don't vary drastically."
   ]
  },
  {
   "cell_type": "code",
   "execution_count": 14,
   "metadata": {},
   "outputs": [],
   "source": [
    "np.random.seed(30)\n",
    "import random as rn\n",
    "rn.seed(30)\n",
    "from keras import backend as K\n",
    "import tensorflow as tf\n",
    "tf.random.set_seed(30)"
   ]
  },
  {
   "cell_type": "markdown",
   "metadata": {},
   "source": [
    "In this block, you read the folder names for training and validation. You also set the `batch_size` here. Note that you set the batch size in such a way that you are able to use the GPU in full capacity. You keep increasing the batch size until the machine throws an error."
   ]
  },
  {
   "cell_type": "code",
   "execution_count": 15,
   "metadata": {},
   "outputs": [],
   "source": [
    "train_doc = np.random.permutation(open('Project_data/train.csv').readlines())\n",
    "val_doc = np.random.permutation(open('Project_data/val.csv').readlines())\n",
    "batch_size = 20"
   ]
  },
  {
   "cell_type": "markdown",
   "metadata": {},
   "source": [
    "## Generator\n",
    "This is one of the most important part of the code. The overall structure of the generator has been given. In the generator, you are going to preprocess the images as you have images of 2 different dimensions as well as create a batch of video frames. You have to experiment with `img_idx`, `y`,`z` and normalization such that you get high accuracy."
   ]
  },
  {
   "cell_type": "code",
   "execution_count": 16,
   "metadata": {},
   "outputs": [],
   "source": [
    "\n",
    "\n",
    "def generator(source_path, folder_list, batch_size):\n",
    "    print( 'Source path = ', source_path, '; batch size =', batch_size)\n",
    "    image_height=100\n",
    "    image_width=100\n",
    "    channels=3\n",
    "    num_classes=5\n",
    "    total_frames=30\n",
    "    frames_to_sample=30\n",
    "    img_idx = np.round(np.linspace(0,total_frames-1,frames_to_sample)).astype(int)\n",
    "    while True:\n",
    "        t = np.random.permutation(folder_list)\n",
    "        num_batches = len(t)//batch_size\n",
    "        for batch in range(num_batches): # we iterate over the number of batches\n",
    "            batch_data = np.zeros((batch_size,len(img_idx),image_height,image_width,channels))\n",
    "            batch_labels = np.zeros((batch_size,5)) # batch_labels is the one hot representation of the output\n",
    "            for folder in range(batch_size): # iterate over the batch_size\n",
    "                imgs = os.listdir(source_path+'/'+ t[folder + (batch*batch_size)].split(';')[0]) # read all the images in the folder\n",
    "                for idx,item in enumerate(img_idx): #  Iterate iver the frames/images of a folder to read them in\n",
    "                    image = imread(source_path+'/'+ t[folder + (batch*batch_size)].strip().split(';')[0]+'/'+imgs[item]).astype(np.float32)\n",
    "                    image_resized=resize(image,(image_height,image_width,3))\n",
    "                    #crop the images and resize them. Note that the images are of 2 different shape \n",
    "                    #and the conv3D will throw error if the inputs in a batch have different shapes\n",
    "                    \n",
    "                    batch_data[folder,idx,:,:,0] = (image_resized[:,:,0])/255\n",
    "                    batch_data[folder,idx,:,:,1] = (image_resized[:,:,1])/255\n",
    "                    batch_data[folder,idx,:,:,2] = (image_resized[:,:,2])/255\n",
    "                    \n",
    "                batch_labels[folder, int(t[folder + (batch*batch_size)].strip().split(';')[2])] = 1\n",
    "            yield batch_data, batch_labels #you yield the batch_data and the batch_labels, remember what does yield do\n",
    "\n",
    "        \n",
    "        # write the code for the remaining data points which are left after full batches\n"
   ]
  },
  {
   "cell_type": "markdown",
   "metadata": {},
   "source": [
    "Note here that a video is represented above in the generator as (number of images, height, width, number of channels). Take this into consideration while creating the model architecture."
   ]
  },
  {
   "cell_type": "code",
   "execution_count": 17,
   "metadata": {},
   "outputs": [
    {
     "name": "stdout",
     "output_type": "stream",
     "text": [
      "# training sequences = 663\n",
      "# validation sequences = 100\n"
     ]
    }
   ],
   "source": [
    "curr_dt_time = datetime.datetime.now()\n",
    "train_path = 'Project_data/train'\n",
    "val_path = 'Project_data/val'\n",
    "num_train_sequences = len(train_doc)\n",
    "print('# training sequences =', num_train_sequences)\n",
    "num_val_sequences = len(val_doc)\n",
    "print('# validation sequences =', num_val_sequences)"
   ]
  },
  {
   "cell_type": "markdown",
   "metadata": {},
   "source": [
    "## Model\n",
    "Here you make the model using different functionalities that Keras provides. Remember to use `Conv3D` and `MaxPooling3D` and not `Conv2D` and `Maxpooling2D` for a 3D convolution model. You would want to use `TimeDistributed` while building a Conv2D + RNN model. Also remember that the last layer is the softmax. Design the network in such a way that the model is able to give good accuracy on the least number of parameters so that it can fit in the memory of the webcam."
   ]
  },
  {
   "cell_type": "code",
   "execution_count": 18,
   "metadata": {},
   "outputs": [],
   "source": [
    "from keras.models import Sequential, Model\n",
    "from keras.layers import Dense, GRU, Flatten, TimeDistributed, Flatten, BatchNormalization, Activation\n",
    "from keras.layers.convolutional import Conv3D, MaxPooling3D\n",
    "from tensorflow.keras import layers\n",
    "from keras.callbacks import ModelCheckpoint, ReduceLROnPlateau\n",
    "from keras import optimizers\n",
    "\n",
    "#write your model here"
   ]
  },
  {
   "cell_type": "code",
   "execution_count": 19,
   "metadata": {},
   "outputs": [],
   "source": [
    "image_height=100\n",
    "image_width=100\n",
    "channels=3\n",
    "num_classes=5\n",
    "total_frames=30\n",
    "frames_to_sample=30\n",
    "\n",
    "model = Sequential()\n",
    "model.add(Conv3D(16, (3, 3, 3), padding='same',\n",
    "            input_shape=(frames_to_sample,image_height,image_width,channels)))\n",
    "model.add(Activation('relu'))\n",
    "model.add(BatchNormalization())\n",
    "model.add(MaxPooling3D(pool_size=(2, 2, 2)))\n",
    "\n",
    "model.add(Conv3D(32, (2, 2, 2), padding='same'))\n",
    "model.add(Activation('relu'))\n",
    "model.add(BatchNormalization())\n",
    "model.add(MaxPooling3D(pool_size=(2, 2, 2)))\n",
    "\n",
    "model.add(Conv3D(64, (2, 2, 2), padding='same'))\n",
    "model.add(Activation('relu'))\n",
    "model.add(BatchNormalization())\n",
    "model.add(MaxPooling3D(pool_size=(2, 2, 2)))\n",
    "\n",
    "model.add(Conv3D(128, (2, 2, 2), padding='same'))\n",
    "model.add(Activation('relu'))\n",
    "model.add(BatchNormalization())\n",
    "model.add(MaxPooling3D(pool_size=(2, 2, 2)))\n",
    "\n",
    "model.add(Flatten())\n",
    "model.add(Dense(128,activation='relu'))\n",
    "model.add(BatchNormalization())\n",
    "model.add(layers.Dropout(0.5))\n",
    "\n",
    "model.add(Dense(64,activation='relu'))\n",
    "model.add(BatchNormalization())\n",
    "model.add(layers.Dropout(0.25))\n",
    "\n",
    "\n",
    "model.add(Dense(num_classes,activation='softmax'))"
   ]
  },
  {
   "cell_type": "markdown",
   "metadata": {},
   "source": [
    "Now that you have written the model, the next step is to `compile` the model. When you print the `summary` of the model, you'll see the total number of parameters you have to train."
   ]
  },
  {
   "cell_type": "code",
   "execution_count": 20,
   "metadata": {
    "scrolled": true
   },
   "outputs": [
    {
     "name": "stdout",
     "output_type": "stream",
     "text": [
      "Model: \"sequential_1\"\n",
      "_________________________________________________________________\n",
      "Layer (type)                 Output Shape              Param #   \n",
      "=================================================================\n",
      "conv3d_4 (Conv3D)            (None, 30, 100, 100, 16)  1312      \n",
      "_________________________________________________________________\n",
      "activation_4 (Activation)    (None, 30, 100, 100, 16)  0         \n",
      "_________________________________________________________________\n",
      "batch_normalization_6 (Batch (None, 30, 100, 100, 16)  64        \n",
      "_________________________________________________________________\n",
      "max_pooling3d_4 (MaxPooling3 (None, 15, 50, 50, 16)    0         \n",
      "_________________________________________________________________\n",
      "conv3d_5 (Conv3D)            (None, 15, 50, 50, 32)    4128      \n",
      "_________________________________________________________________\n",
      "activation_5 (Activation)    (None, 15, 50, 50, 32)    0         \n",
      "_________________________________________________________________\n",
      "batch_normalization_7 (Batch (None, 15, 50, 50, 32)    128       \n",
      "_________________________________________________________________\n",
      "max_pooling3d_5 (MaxPooling3 (None, 7, 25, 25, 32)     0         \n",
      "_________________________________________________________________\n",
      "conv3d_6 (Conv3D)            (None, 7, 25, 25, 64)     16448     \n",
      "_________________________________________________________________\n",
      "activation_6 (Activation)    (None, 7, 25, 25, 64)     0         \n",
      "_________________________________________________________________\n",
      "batch_normalization_8 (Batch (None, 7, 25, 25, 64)     256       \n",
      "_________________________________________________________________\n",
      "max_pooling3d_6 (MaxPooling3 (None, 3, 12, 12, 64)     0         \n",
      "_________________________________________________________________\n",
      "conv3d_7 (Conv3D)            (None, 3, 12, 12, 128)    65664     \n",
      "_________________________________________________________________\n",
      "activation_7 (Activation)    (None, 3, 12, 12, 128)    0         \n",
      "_________________________________________________________________\n",
      "batch_normalization_9 (Batch (None, 3, 12, 12, 128)    512       \n",
      "_________________________________________________________________\n",
      "max_pooling3d_7 (MaxPooling3 (None, 1, 6, 6, 128)      0         \n",
      "_________________________________________________________________\n",
      "flatten_1 (Flatten)          (None, 4608)              0         \n",
      "_________________________________________________________________\n",
      "dense_3 (Dense)              (None, 128)               589952    \n",
      "_________________________________________________________________\n",
      "batch_normalization_10 (Batc (None, 128)               512       \n",
      "_________________________________________________________________\n",
      "dropout_2 (Dropout)          (None, 128)               0         \n",
      "_________________________________________________________________\n",
      "dense_4 (Dense)              (None, 64)                8256      \n",
      "_________________________________________________________________\n",
      "batch_normalization_11 (Batc (None, 64)                256       \n",
      "_________________________________________________________________\n",
      "dropout_3 (Dropout)          (None, 64)                0         \n",
      "_________________________________________________________________\n",
      "dense_5 (Dense)              (None, 5)                 325       \n",
      "=================================================================\n",
      "Total params: 687,813\n",
      "Trainable params: 686,949\n",
      "Non-trainable params: 864\n",
      "_________________________________________________________________\n",
      "None\n"
     ]
    }
   ],
   "source": [
    "optimiser = tf.keras.optimizers.Adam()\n",
    "model.compile(optimizer=optimiser, loss='categorical_crossentropy', metrics=['categorical_accuracy'])\n",
    "print (model.summary())"
   ]
  },
  {
   "cell_type": "markdown",
   "metadata": {},
   "source": [
    "Let us create the `train_generator` and the `val_generator` which will be used in `.fit_generator`."
   ]
  },
  {
   "cell_type": "code",
   "execution_count": 21,
   "metadata": {},
   "outputs": [],
   "source": [
    "train_generator = generator(train_path, train_doc, batch_size)\n",
    "val_generator = generator(val_path, val_doc, batch_size)"
   ]
  },
  {
   "cell_type": "code",
   "execution_count": 22,
   "metadata": {},
   "outputs": [
    {
     "name": "stdout",
     "output_type": "stream",
     "text": [
      "WARNING:tensorflow:`period` argument is deprecated. Please use `save_freq` to specify the frequency in number of batches seen.\n"
     ]
    }
   ],
   "source": [
    "model_name = 'model_init' + '_' + str(curr_dt_time).replace(' ','').replace(':','_') + '/'\n",
    "    \n",
    "if not os.path.exists(model_name):\n",
    "    os.mkdir(model_name)\n",
    "        \n",
    "filepath = model_name + 'model-{epoch:05d}-{loss:.5f}-{categorical_accuracy:.5f}-{val_loss:.5f}-{val_categorical_accuracy:.5f}.h5'\n",
    "\n",
    "checkpoint = ModelCheckpoint(filepath, monitor='val_loss', verbose=1, save_best_only=False, save_weights_only=False, mode='auto', period=1)\n",
    "\n",
    "LR = ReduceLROnPlateau(monitor='val_loss', factor=0.2, verbose=1, patience=4)\n",
    "callbacks_list = [checkpoint, LR]"
   ]
  },
  {
   "cell_type": "markdown",
   "metadata": {},
   "source": [
    "The `steps_per_epoch` and `validation_steps` are used by `fit_generator` to decide the number of next() calls it need to make."
   ]
  },
  {
   "cell_type": "code",
   "execution_count": 23,
   "metadata": {},
   "outputs": [],
   "source": [
    "if (num_train_sequences%batch_size) == 0:\n",
    "    steps_per_epoch = int(num_train_sequences/batch_size)\n",
    "else:\n",
    "    steps_per_epoch = (num_train_sequences//batch_size) + 1\n",
    "\n",
    "if (num_val_sequences%batch_size) == 0:\n",
    "    validation_steps = int(num_val_sequences/batch_size)\n",
    "else:\n",
    "    validation_steps = (num_val_sequences//batch_size) + 1"
   ]
  },
  {
   "cell_type": "markdown",
   "metadata": {},
   "source": [
    "Let us now fit the model. This will start training the model and with the help of the checkpoints, you'll be able to save the model at the end of each epoch."
   ]
  },
  {
   "cell_type": "code",
   "execution_count": 24,
   "metadata": {},
   "outputs": [
    {
     "name": "stdout",
     "output_type": "stream",
     "text": [
      "# epochs = 10\n",
      "Source path =  Project_data/train ; batch size = 20\n",
      "Epoch 1/10\n",
      "34/34 [==============================] - ETA: 0s - loss: 1.5771 - categorical_accuracy: 0.3912 Source path =  Project_data/val ; batch size = 20\n",
      "34/34 [==============================] - 613s 18s/step - loss: 1.5771 - categorical_accuracy: 0.3912 - val_loss: 2.6591 - val_categorical_accuracy: 0.1600\n",
      "\n",
      "Epoch 00001: saving model to model_init_2022-09-2115_06_37.186455/model-00001-1.57709-0.39118-2.65908-0.16000.h5\n",
      "Epoch 2/10\n",
      "34/34 [==============================] - 460s 14s/step - loss: 1.0597 - categorical_accuracy: 0.5941 - val_loss: 5.0932 - val_categorical_accuracy: 0.1300\n",
      "\n",
      "Epoch 00002: saving model to model_init_2022-09-2115_06_37.186455/model-00002-1.05971-0.59412-5.09316-0.13000.h5\n",
      "Epoch 3/10\n",
      "34/34 [==============================] - 453s 13s/step - loss: 0.9377 - categorical_accuracy: 0.6235 - val_loss: 5.8668 - val_categorical_accuracy: 0.1600\n",
      "\n",
      "Epoch 00003: saving model to model_init_2022-09-2115_06_37.186455/model-00003-0.93774-0.62353-5.86676-0.16000.h5\n",
      "Epoch 4/10\n",
      "34/34 [==============================] - 447s 13s/step - loss: 0.7970 - categorical_accuracy: 0.7000 - val_loss: 7.2204 - val_categorical_accuracy: 0.1700\n",
      "\n",
      "Epoch 00004: saving model to model_init_2022-09-2115_06_37.186455/model-00004-0.79697-0.70000-7.22035-0.17000.h5\n",
      "Epoch 5/10\n",
      "34/34 [==============================] - 449s 13s/step - loss: 0.7060 - categorical_accuracy: 0.7279 - val_loss: 5.8500 - val_categorical_accuracy: 0.1900\n",
      "\n",
      "Epoch 00005: saving model to model_init_2022-09-2115_06_37.186455/model-00005-0.70596-0.72794-5.84999-0.19000.h5\n",
      "\n",
      "Epoch 00005: ReduceLROnPlateau reducing learning rate to 0.00020000000949949026.\n",
      "Epoch 6/10\n",
      "34/34 [==============================] - 525s 15s/step - loss: 0.5819 - categorical_accuracy: 0.7868 - val_loss: 5.6609 - val_categorical_accuracy: 0.1700\n",
      "\n",
      "Epoch 00006: saving model to model_init_2022-09-2115_06_37.186455/model-00006-0.58188-0.78676-5.66095-0.17000.h5\n",
      "Epoch 7/10\n",
      "34/34 [==============================] - 508s 15s/step - loss: 0.5135 - categorical_accuracy: 0.8250 - val_loss: 5.3721 - val_categorical_accuracy: 0.2400\n",
      "\n",
      "Epoch 00007: saving model to model_init_2022-09-2115_06_37.186455/model-00007-0.51355-0.82500-5.37214-0.24000.h5\n",
      "Epoch 8/10\n",
      "34/34 [==============================] - 512s 15s/step - loss: 0.4155 - categorical_accuracy: 0.8618 - val_loss: 5.4663 - val_categorical_accuracy: 0.2700\n",
      "\n",
      "Epoch 00008: saving model to model_init_2022-09-2115_06_37.186455/model-00008-0.41546-0.86176-5.46630-0.27000.h5\n",
      "Epoch 9/10\n",
      "34/34 [==============================] - 510s 15s/step - loss: 0.4136 - categorical_accuracy: 0.8456 - val_loss: 4.2678 - val_categorical_accuracy: 0.3900\n",
      "\n",
      "Epoch 00009: saving model to model_init_2022-09-2115_06_37.186455/model-00009-0.41358-0.84559-4.26780-0.39000.h5\n",
      "\n",
      "Epoch 00009: ReduceLROnPlateau reducing learning rate to 4.0000001899898055e-05.\n",
      "Epoch 10/10\n",
      "34/34 [==============================] - 513s 15s/step - loss: 0.4007 - categorical_accuracy: 0.8559 - val_loss: 4.6939 - val_categorical_accuracy: 0.2600\n",
      "\n",
      "Epoch 00010: saving model to model_init_2022-09-2115_06_37.186455/model-00010-0.40072-0.85588-4.69388-0.26000.h5\n"
     ]
    }
   ],
   "source": [
    "epochs = 10\n",
    "print ('# epochs =', epochs)\n",
    "history = model.fit(train_generator, steps_per_epoch=steps_per_epoch, epochs=epochs, verbose=1, \n",
    "                    callbacks=callbacks_list, validation_data=val_generator, \n",
    "                    validation_steps=validation_steps, class_weight=None, workers=1, initial_epoch=0)"
   ]
  },
  {
   "cell_type": "code",
   "execution_count": 29,
   "metadata": {},
   "outputs": [
    {
     "name": "stdout",
     "output_type": "stream",
     "text": [
      "{'loss': [1.5770915746688843, 1.0597097873687744, 0.9377400875091553, 0.796970784664154, 0.7059610486030579, 0.5818793177604675, 0.5135482549667358, 0.41546061635017395, 0.41358184814453125, 0.40072101354599], 'categorical_accuracy': [0.3911764621734619, 0.5941176414489746, 0.6235294342041016, 0.699999988079071, 0.7279411554336548, 0.7867646813392639, 0.824999988079071, 0.8617647290229797, 0.845588207244873, 0.8558823466300964], 'val_loss': [2.6590774059295654, 5.093155384063721, 5.866757392883301, 7.220354080200195, 5.8499884605407715, 5.660947799682617, 5.372138500213623, 5.466299057006836, 4.267797946929932, 4.6938796043396], 'val_categorical_accuracy': [0.1599999964237213, 0.12999999523162842, 0.1599999964237213, 0.17000000178813934, 0.1899999976158142, 0.17000000178813934, 0.23999999463558197, 0.27000001072883606, 0.38999998569488525, 0.25999999046325684], 'lr': [0.001, 0.001, 0.001, 0.001, 0.001, 0.00020000001, 0.00020000001, 0.00020000001, 0.00020000001, 4.0000003e-05]}\n"
     ]
    }
   ],
   "source": [
    "print(history.history)"
   ]
  },
  {
   "cell_type": "code",
   "execution_count": 31,
   "metadata": {},
   "outputs": [
    {
     "data": {
      "image/png": "[encoded data removed]",
      "text/plain": [
       "<Figure size 800x800 with 2 Axes>"
      ]
     },
     "metadata": {},
     "output_type": "display_data"
    }
   ],
   "source": [
    "import matplotlib.pyplot as plt\n",
    "acc = history.history['categorical_accuracy']\n",
    "val_acc = history.history['val_categorical_accuracy']\n",
    "\n",
    "loss = history.history['loss']\n",
    "val_loss = history.history['val_loss']\n",
    "\n",
    "epochs_range = range(epochs)\n",
    "\n",
    "plt.figure(figsize=(8, 8))\n",
    "plt.subplot(1, 2, 1)\n",
    "plt.plot(epochs_range, acc, label='Training Accuracy')\n",
    "plt.plot(epochs_range, val_acc, label='Validation Accuracy')\n",
    "plt.legend(loc='lower right')\n",
    "plt.title('Training and Validation Accuracy')\n",
    "\n",
    "plt.subplot(1, 2, 2)\n",
    "plt.plot(epochs_range, loss, label='Training Loss')\n",
    "plt.plot(epochs_range, val_loss, label='Validation Loss')\n",
    "plt.legend(loc='upper right')\n",
    "plt.title('Training and Validation Loss')\n",
    "plt.show()"
   ]
  }
 ],
 "metadata": {
  "kernelspec": {
   "display_name": "Python 3.8.5 ('base')",
   "language": "python",
   "name": "python3"
  },
  "language_info": {
   "codemirror_mode": {
    "name": "ipython",
    "version": 3
   },
   "file_extension": ".py",
   "mimetype": "text/x-python",
   "name": "python",
   "nbconvert_exporter": "python",
   "pygments_lexer": "ipython3",
   "version": "3.8.5"
  },
  "vscode": {
   "interpreter": {
    "hash": "5b1b25d99a7135656266db493e23360f27a219fb75d4f66d0563de7ab003e5d1"
   }
  }
 },
 "nbformat": 4,
 "nbformat_minor": 2
}
